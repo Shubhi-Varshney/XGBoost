{
 "cells": [
  {
   "cell_type": "code",
   "execution_count": null,
   "id": "36d57738",
   "metadata": {},
   "outputs": [],
   "source": [
    "import pandas as pd\n",
    "import numpy as np\n",
    "import xgboost as xgb\n",
    "from sklearn.model_selection import train_test_split # split data into training and test sets\n",
    "from sklearn.metrics import balanced_accuracy_score, roc_auc_score, make_scorer # for scoring \n",
    "from sklearn.model_selection import GridSearchCV # cross validation \n",
    "from sklearn.metrics import confusion_matrix # creates a confusion matrix\n",
    "from sklearn.metrics import plot_confusion_matrix # draws a confusion matrix  \n"
   ]
  },
  {
   "cell_type": "code",
   "execution_count": null,
   "id": "6f1e450d",
   "metadata": {},
   "outputs": [],
   "source": [
    "df = pd.read_csv('D:\\Shubhi\\DataScience\\Data Sets\\Telco-Customer-Churn.csv')"
   ]
  },
  {
   "cell_type": "code",
   "execution_count": null,
   "id": "2493a6bb",
   "metadata": {},
   "outputs": [],
   "source": [
    "df.head()"
   ]
  },
  {
   "cell_type": "code",
   "execution_count": null,
   "id": "71a45009",
   "metadata": {},
   "outputs": [],
   "source": [
    " df.info()"
   ]
  },
  {
   "cell_type": "code",
   "execution_count": null,
   "id": "7c7563e5",
   "metadata": {},
   "outputs": [],
   "source": [
    "df['Churn'].unique() # Checked every column to check the unique values to make sure that column doesn't have blank spaces. "
   ]
  },
  {
   "cell_type": "code",
   "execution_count": null,
   "id": "69458b4c",
   "metadata": {},
   "outputs": [],
   "source": [
    "df['TotalCharges'] = pd.to_numeric(df['TotalCharges']) # This error tells that we have some blank value which cannot be parsed to numeric value"
   ]
  },
  {
   "cell_type": "code",
   "execution_count": null,
   "id": "1930c29e",
   "metadata": {},
   "outputs": [],
   "source": [
    "df.loc[df['TotalCharges'] == ' '] # To find how many rows have blank value for Total Charges\n",
    "df.loc[(df['TotalCharges'] == ' '), 'TotalCharges'] = 0 # Setting blank value to '0' for xgboost\n",
    "df.loc[df['tenure'] == 0]"
   ]
  },
  {
   "cell_type": "code",
   "execution_count": null,
   "id": "7d6aab2e",
   "metadata": {},
   "outputs": [],
   "source": [
    "df['TotalCharges'] = pd.to_numeric(df['TotalCharges'])"
   ]
  },
  {
   "cell_type": "code",
   "execution_count": null,
   "id": "6ecf728a",
   "metadata": {},
   "outputs": [],
   "source": [
    "df.replace(' ', '_', regex=True, inplace=True) # To remove blank spaces in whole dataframe"
   ]
  },
  {
   "cell_type": "code",
   "execution_count": null,
   "id": "849a7ee8",
   "metadata": {},
   "outputs": [],
   "source": [
    "df.dtypes"
   ]
  },
  {
   "cell_type": "code",
   "execution_count": null,
   "id": "996f7db6",
   "metadata": {},
   "outputs": [],
   "source": [
    "X = df.drop(['Churn','customerID'], axis=1).copy() "
   ]
  },
  {
   "cell_type": "code",
   "execution_count": null,
   "id": "198afea0",
   "metadata": {},
   "outputs": [],
   "source": [
    "X.head()"
   ]
  },
  {
   "cell_type": "code",
   "execution_count": null,
   "id": "7dd9bfb1",
   "metadata": {},
   "outputs": [],
   "source": [
    "y = df['Churn'].copy()\n",
    "y.head()"
   ]
  },
  {
   "cell_type": "code",
   "execution_count": null,
   "id": "ce40cead",
   "metadata": {},
   "outputs": [],
   "source": [
    " X.dtypes"
   ]
  },
  {
   "cell_type": "code",
   "execution_count": null,
   "id": "3096f6df",
   "metadata": {},
   "outputs": [],
   "source": [
    "# One hot encoding\n",
    "pd.get_dummies(X, columns=['PaymentMethod']).head()"
   ]
  },
  {
   "cell_type": "code",
   "execution_count": null,
   "id": "c6ecbeca",
   "metadata": {},
   "outputs": [],
   "source": [
    "X_encoded = pd.get_dummies(X, columns=['gender','SeniorCitizen','Partner','Dependents',\n",
    "                                     'PhoneService',\n",
    "                                     'MultipleLines',\n",
    "                                     'InternetService',\n",
    "                                     'OnlineSecurity',\n",
    "                                     'OnlineBackup',\n",
    "                                     'DeviceProtection',\n",
    "                                     'TechSupport',\n",
    "                                     'StreamingTV',\n",
    "                                     'StreamingMovies',\n",
    "                                     'Contract',\n",
    "                                     'PaperlessBilling',\n",
    "                                     'PaymentMethod'])\n",
    "X_encoded.head()"
   ]
  },
  {
   "cell_type": "code",
   "execution_count": null,
   "id": "5ed857dd",
   "metadata": {},
   "outputs": [],
   "source": [
    "y.unique() # TO check whether y contains expected values or any other values"
   ]
  },
  {
   "cell_type": "code",
   "execution_count": null,
   "id": "59bf872d",
   "metadata": {},
   "outputs": [],
   "source": [
    "# check how data is imbalanced by divinding the numer of people who left the company,\n",
    "# where y = 1, by total numner of people in the dataset\n",
    "\n",
    "# sum(y == 'Yes')/len(y)\n",
    "\n",
    "print (f'total no of Yes : ', {sum(y == 'Yes')})\n",
    "print (f'total no of No : ', {sum(y == 'No')})\n",
    "\n"
   ]
  },
  {
   "cell_type": "code",
   "execution_count": null,
   "id": "31059cb3",
   "metadata": {},
   "outputs": [],
   "source": [
    "# Converted Yes and No to 0's and 1's\n",
    "y.replace(['Yes','No'],[1,0],inplace=True)"
   ]
  },
  {
   "cell_type": "code",
   "execution_count": null,
   "id": "c0d53f29",
   "metadata": {},
   "outputs": [],
   "source": [
    "sum(y)/len(y)"
   ]
  },
  {
   "cell_type": "code",
   "execution_count": null,
   "id": "346e7e32",
   "metadata": {},
   "outputs": [],
   "source": [
    "# Since only 27% people left the company, we will split the data using \n",
    "# stratification in order to maintain the same percentage in both training and\n",
    "# testing data\n",
    "X_train, X_test, y_train, y_test = train_test_split(X_encoded, y, random_state = 42, stratify = y)\n"
   ]
  },
  {
   "cell_type": "code",
   "execution_count": null,
   "id": "aa933739",
   "metadata": {},
   "outputs": [],
   "source": [
    "sum(y_train)/len(y_train)"
   ]
  },
  {
   "cell_type": "code",
   "execution_count": null,
   "id": "444f2301",
   "metadata": {},
   "outputs": [],
   "source": [
    "sum(y_test)/len(y_test)"
   ]
  },
  {
   "cell_type": "code",
   "execution_count": 117,
   "id": "cd393286",
   "metadata": {},
   "outputs": [
    {
     "data": {
      "text/plain": [
       "tenure                                       int64\n",
       "MonthlyCharges                             float64\n",
       "TotalCharges                               float64\n",
       "gender_Female                                uint8\n",
       "gender_Male                                  uint8\n",
       "SeniorCitizen_0                              uint8\n",
       "SeniorCitizen_1                              uint8\n",
       "Partner_No                                   uint8\n",
       "Partner_Yes                                  uint8\n",
       "Dependents_No                                uint8\n",
       "Dependents_Yes                               uint8\n",
       "PhoneService_No                              uint8\n",
       "PhoneService_Yes                             uint8\n",
       "MultipleLines_No                             uint8\n",
       "MultipleLines_No_phone_service               uint8\n",
       "MultipleLines_Yes                            uint8\n",
       "InternetService_DSL                          uint8\n",
       "InternetService_Fiber_optic                  uint8\n",
       "InternetService_No                           uint8\n",
       "OnlineSecurity_No                            uint8\n",
       "OnlineSecurity_No_internet_service           uint8\n",
       "OnlineSecurity_Yes                           uint8\n",
       "OnlineBackup_No                              uint8\n",
       "OnlineBackup_No_internet_service             uint8\n",
       "OnlineBackup_Yes                             uint8\n",
       "DeviceProtection_No                          uint8\n",
       "DeviceProtection_No_internet_service         uint8\n",
       "DeviceProtection_Yes                         uint8\n",
       "TechSupport_No                               uint8\n",
       "TechSupport_No_internet_service              uint8\n",
       "TechSupport_Yes                              uint8\n",
       "StreamingTV_No                               uint8\n",
       "StreamingTV_No_internet_service              uint8\n",
       "StreamingTV_Yes                              uint8\n",
       "StreamingMovies_No                           uint8\n",
       "StreamingMovies_No_internet_service          uint8\n",
       "StreamingMovies_Yes                          uint8\n",
       "Contract_Month-to-month                      uint8\n",
       "Contract_One_year                            uint8\n",
       "Contract_Two_year                            uint8\n",
       "PaperlessBilling_No                          uint8\n",
       "PaperlessBilling_Yes                         uint8\n",
       "PaymentMethod_Bank_transfer_(automatic)      uint8\n",
       "PaymentMethod_Credit_card_(automatic)        uint8\n",
       "PaymentMethod_Electronic_check               uint8\n",
       "PaymentMethod_Mailed_check                   uint8\n",
       "dtype: object"
      ]
     },
     "execution_count": 117,
     "metadata": {},
     "output_type": "execute_result"
    }
   ],
   "source": [
    "X_test.dtypes"
   ]
  },
  {
   "cell_type": "code",
   "execution_count": 118,
   "id": "b212a979",
   "metadata": {},
   "outputs": [
    {
     "name": "stdout",
     "output_type": "stream",
     "text": [
      "[0]\tvalidation_0-aucpr:0.63160\n"
     ]
    },
    {
     "name": "stderr",
     "output_type": "stream",
     "text": [
      "C:\\Users\\Ridaan\\anaconda3\\lib\\site-packages\\xgboost\\sklearn.py:1224: UserWarning: The use of label encoder in XGBClassifier is deprecated and will be removed in a future release. To remove this warning, do the following: 1) Pass option use_label_encoder=False when constructing XGBClassifier object; and 2) Encode your labels (y) as integers starting with 0, i.e. 0, 1, 2, ..., [num_class - 1].\n",
      "  warnings.warn(label_encoder_deprecation_msg, UserWarning)\n",
      "C:\\Users\\Ridaan\\anaconda3\\lib\\site-packages\\xgboost\\data.py:250: FutureWarning: pandas.Int64Index is deprecated and will be removed from pandas in a future version. Use pandas.Index with the appropriate dtype instead.\n",
      "  elif isinstance(data.columns, (pd.Int64Index, pd.RangeIndex)):\n"
     ]
    },
    {
     "name": "stdout",
     "output_type": "stream",
     "text": [
      "[1]\tvalidation_0-aucpr:0.64538\n",
      "[2]\tvalidation_0-aucpr:0.64402\n",
      "[3]\tvalidation_0-aucpr:0.64429\n",
      "[4]\tvalidation_0-aucpr:0.63866\n",
      "[5]\tvalidation_0-aucpr:0.63419\n",
      "[6]\tvalidation_0-aucpr:0.63912\n",
      "[7]\tvalidation_0-aucpr:0.63787\n",
      "[8]\tvalidation_0-aucpr:0.63779\n",
      "[9]\tvalidation_0-aucpr:0.63894\n",
      "[10]\tvalidation_0-aucpr:0.63680\n",
      "[11]\tvalidation_0-aucpr:0.63828\n"
     ]
    },
    {
     "data": {
      "text/plain": [
       "XGBClassifier(base_score=0.5, booster='gbtree', colsample_bylevel=1,\n",
       "              colsample_bynode=1, colsample_bytree=1, enable_categorical=False,\n",
       "              gamma=0, gpu_id=-1, importance_type=None,\n",
       "              interaction_constraints='', learning_rate=0.300000012,\n",
       "              max_delta_step=0, max_depth=6, min_child_weight=1, missing=nan,\n",
       "              monotone_constraints='()', n_estimators=100, n_jobs=8,\n",
       "              num_parallel_tree=1, predictor='auto', random_state=42,\n",
       "              reg_alpha=0, reg_lambda=1, scale_pos_weight=1, seed=42,\n",
       "              subsample=1, tree_method='exact', validate_parameters=1,\n",
       "              verbosity=None)"
      ]
     },
     "execution_count": 118,
     "metadata": {},
     "output_type": "execute_result"
    }
   ],
   "source": [
    "# Building a Preliminary XGBoost Model\n",
    "clf_xgb = xgb.XGBClassifier(objective='binary:logistic', seed=42)\n",
    "clf_xgb.fit(X_train, y_train, verbose=True, early_stopping_rounds=10,\n",
    "           eval_metric='aucpr',\n",
    "           eval_set=[(X_test,y_test )])\n"
   ]
  },
  {
   "cell_type": "code",
   "execution_count": 119,
   "id": "9f0e13ed",
   "metadata": {},
   "outputs": [
    {
     "name": "stderr",
     "output_type": "stream",
     "text": [
      "C:\\Users\\Ridaan\\anaconda3\\lib\\site-packages\\sklearn\\utils\\deprecation.py:87: FutureWarning: Function plot_confusion_matrix is deprecated; Function `plot_confusion_matrix` is deprecated in 1.0 and will be removed in 1.2. Use one of the class methods: ConfusionMatrixDisplay.from_predictions or ConfusionMatrixDisplay.from_estimator.\n",
      "  warnings.warn(msg, category=FutureWarning)\n"
     ]
    },
    {
     "data": {
      "text/plain": [
       "<sklearn.metrics._plot.confusion_matrix.ConfusionMatrixDisplay at 0x235700e3e50>"
      ]
     },
     "execution_count": 119,
     "metadata": {},
     "output_type": "execute_result"
    },
    {
     "data": {
      "image/png": "[encoded data removed]",
      "text/plain": [
       "<Figure size 432x288 with 2 Axes>"
      ]
     },
     "metadata": {
      "needs_background": "light"
     },
     "output_type": "display_data"
    }
   ],
   "source": [
    "plot_confusion_matrix(clf_xgb, X_test, y_test, values_format='d',\n",
    "                     display_labels=[\"Did not leave\", \"Left\"])"
   ]
  },
  {
   "cell_type": "code",
   "execution_count": 124,
   "id": "4bce864b",
   "metadata": {},
   "outputs": [
    {
     "data": {
      "image/png": "[encoded data removed]",
      "text/plain": [
       "<Figure size 432x288 with 2 Axes>"
      ]
     },
     "metadata": {
      "needs_background": "light"
     },
     "output_type": "display_data"
    }
   ],
   "source": [
    "from sklearn.metrics import ConfusionMatrixDisplay\n",
    "import matplotlib.pyplot as plt\n",
    "\n",
    "predictions = clf_xgb.predict(X_test)\n",
    "cm = confusion_matrix(y_test, predictions, labels=clf_xgb.classes_)\n",
    "disp = ConfusionMatrixDisplay(confusion_matrix=cm,\n",
    "                              display_labels=[\"Did not leave\", \"Left\"])\n",
    "disp.plot()\n",
    "plt.show()\n"
   ]
  },
  {
   "cell_type": "markdown",
   "id": "d28f5d34",
   "metadata": {},
   "source": [
    "In the confusion matrix, we see that of out of 1294 ( people who do not leave ), 1155 people i.e. 89% are correctly classified.  But out of 467 people who leave the company, only 242 i.e. only 52% are correctly classified. \n",
    "That mean XGBoost Tree did not do a good job as we need to correctly classify the people who are leaving the company so as to retain the company cost. \n",
    "So, now we will optimize the XGBoost through, scale_pos_weight that helps with the imbalanced data."
   ]
  },
  {
   "cell_type": "code",
   "execution_count": 131,
   "id": "3606f376",
   "metadata": {},
   "outputs": [
    {
     "name": "stderr",
     "output_type": "stream",
     "text": [
      "C:\\Users\\Ridaan\\anaconda3\\lib\\site-packages\\xgboost\\sklearn.py:1224: UserWarning: The use of label encoder in XGBClassifier is deprecated and will be removed in a future release. To remove this warning, do the following: 1) Pass option use_label_encoder=False when constructing XGBClassifier object; and 2) Encode your labels (y) as integers starting with 0, i.e. 0, 1, 2, ..., [num_class - 1].\n",
      "  warnings.warn(label_encoder_deprecation_msg, UserWarning)\n",
      "C:\\Users\\Ridaan\\anaconda3\\lib\\site-packages\\xgboost\\data.py:250: FutureWarning: pandas.Int64Index is deprecated and will be removed from pandas in a future version. Use pandas.Index with the appropriate dtype instead.\n",
      "  elif isinstance(data.columns, (pd.Int64Index, pd.RangeIndex)):\n"
     ]
    },
    {
     "name": "stdout",
     "output_type": "stream",
     "text": [
      "[05:18:20] WARNING: C:\\Windows\\Temp\\abs_557yfx631l\\croots\\recipe\\xgboost-split_1659548953302\\work\\src\\learner.cc:576: \n",
      "Parameters: { \"reg_lamda\" } might not be used.\n",
      "\n",
      "  This could be a false alarm, with some parameters getting used by language bindings but\n",
      "  then being mistakenly passed down to XGBoost core, or some parameter actually being used\n",
      "  but getting flagged wrongly here. Please open an issue if you find any such cases.\n",
      "\n",
      "\n",
      "{'gamma': 1, 'learning_rate': 0.1, 'max_depth': 5, 'reg_lamda': 0, 'scale_pos_weight': 0.5}\n"
     ]
    }
   ],
   "source": [
    "# ROUND 1\n",
    "# param_grid = {\n",
    "#     'max_depth': [3,4,5],\n",
    "#     'learning_rate': [0.1, 0.01, 0.05],\n",
    "#     'gamma' : [0, 0.25, 1.0],\n",
    "#     'reg_lamda' : [0, 1.0, 10.0],\n",
    "#     'scale_pos_weight' : [1,3,5]\n",
    "# }\n",
    "\n",
    "# Output : {'gamma': 1.0, 'learning_rate': 0.1, 'max_depth': 5, 'reg_lamda': 0, 'scale_pos_weight': 1}\n",
    "\n",
    "# ROUND 2\n",
    "param_grid = {\n",
    "    'max_depth': [5,6,7],\n",
    "    'learning_rate': [0.1, 0.5, 1],\n",
    "    'gamma' : [1, 5, 10],\n",
    "    'reg_lamda' : [0],\n",
    "    'scale_pos_weight' : [1, 0.5, 0.1]\n",
    "}\n",
    "\n",
    "# Output: {'gamma': 1, 'learning_rate': 0.1, 'max_depth': 5, 'reg_lamda': 0, 'scale_pos_weight': 0.5}\n",
    "    \n",
    "## NOTE: To speed up cross validation and to prevent from overfitting, we are \n",
    "## only using a random subset of the data (90%) and are only using a random \n",
    "## subset of the features (columns) (50%) per tree.\n",
    "    \n",
    "optimal_params = GridSearchCV(\n",
    "    estimator = xgb.XGBClassifier(objective='binary:logistic',\n",
    "                                 seed=42,\n",
    "                                 subsample=0.9,\n",
    "                                 colsample_bytree=0.5),\n",
    "    param_grid = param_grid,\n",
    "    scoring='roc_auc',\n",
    "    verbose=0,\n",
    "    n_jobs=10,\n",
    "    cv=3  \n",
    ")\n",
    "    \n",
    "optimal_params.fit(X_train, \n",
    "                  y_train,\n",
    "                  early_stopping_rounds=10,\n",
    "                  eval_metric='auc',\n",
    "                  eval_set=[(X_test, y_test)],\n",
    "                  verbose = False)\n",
    "    \n",
    "print(optimal_params.best_params_)"
   ]
  },
  {
   "cell_type": "code",
   "execution_count": 132,
   "id": "6a039043",
   "metadata": {},
   "outputs": [
    {
     "name": "stdout",
     "output_type": "stream",
     "text": [
      "[05:43:59] WARNING: C:\\Windows\\Temp\\abs_557yfx631l\\croots\\recipe\\xgboost-split_1659548953302\\work\\src\\learner.cc:576: \n",
      "Parameters: { \"learn_rate\", \"sub_sample\" } might not be used.\n",
      "\n",
      "  This could be a false alarm, with some parameters getting used by language bindings but\n",
      "  then being mistakenly passed down to XGBoost core, or some parameter actually being used\n",
      "  but getting flagged wrongly here. Please open an issue if you find any such cases.\n",
      "\n",
      "\n",
      "[0]\tvalidation_0-aucpr:0.64569\n",
      "[1]\tvalidation_0-aucpr:0.64978\n",
      "[2]\tvalidation_0-aucpr:0.65669\n",
      "[3]\tvalidation_0-aucpr:0.66040\n",
      "[4]\tvalidation_0-aucpr:0.65964\n",
      "[5]\tvalidation_0-aucpr:0.66004\n",
      "[6]\tvalidation_0-aucpr:0.65904\n",
      "[7]\tvalidation_0-aucpr:0.65742\n",
      "[8]\tvalidation_0-aucpr:0.65511\n",
      "[9]\tvalidation_0-aucpr:0.65409\n",
      "[10]\tvalidation_0-aucpr:0.65460\n",
      "[11]\tvalidation_0-aucpr:0.65127\n",
      "[12]\tvalidation_0-aucpr:0.65007\n",
      "[13]\tvalidation_0-aucpr:0.64368\n"
     ]
    },
    {
     "data": {
      "text/plain": [
       "XGBClassifier(base_score=0.5, booster='gbtree', colsample_bylevel=1,\n",
       "              colsample_bynode=1, colsample_bytree=0.5,\n",
       "              enable_categorical=False, gamma=1, gpu_id=-1,\n",
       "              importance_type=None, interaction_constraints='', learn_rate=0.1,\n",
       "              learning_rate=0.300000012, max_delta_step=0, max_depth=5,\n",
       "              min_child_weight=1, missing=nan, monotone_constraints='()',\n",
       "              n_estimators=100, n_jobs=8, num_parallel_tree=1, predictor='auto',\n",
       "              random_state=42, reg_alpha=0, reg_lambda=0, scale_pos_weight=0.5,\n",
       "              seed=42, sub_sample=0.9, subsample=1, tree_method='exact',\n",
       "              validate_parameters=1, ...)"
      ]
     },
     "execution_count": 132,
     "metadata": {},
     "output_type": "execute_result"
    }
   ],
   "source": [
    "# Building XGBoost Model using above parameters\n",
    "\n",
    "clf_xgb = xgb.XGBClassifier(objective='binary:logistic', seed=42,\n",
    "                           gamma=1,\n",
    "                           learn_rate=0.1,\n",
    "                            max_depth=5,\n",
    "                            reg_lambda=0,\n",
    "                            scale_pos_weight=0.5,\n",
    "                            sub_sample=0.9,\n",
    "                            colsample_bytree=0.5\n",
    "                           )\n",
    "clf_xgb.fit(X_train, y_train, verbose=True, early_stopping_rounds=10,\n",
    "           eval_metric='aucpr',\n",
    "           eval_set=[(X_test,y_test )])"
   ]
  },
  {
   "cell_type": "code",
   "execution_count": 133,
   "id": "b1fd263a",
   "metadata": {},
   "outputs": [
    {
     "name": "stderr",
     "output_type": "stream",
     "text": [
      "C:\\Users\\Ridaan\\anaconda3\\lib\\site-packages\\sklearn\\utils\\deprecation.py:87: FutureWarning: Function plot_confusion_matrix is deprecated; Function `plot_confusion_matrix` is deprecated in 1.0 and will be removed in 1.2. Use one of the class methods: ConfusionMatrixDisplay.from_predictions or ConfusionMatrixDisplay.from_estimator.\n",
      "  warnings.warn(msg, category=FutureWarning)\n"
     ]
    },
    {
     "data": {
      "text/plain": [
       "<sklearn.metrics._plot.confusion_matrix.ConfusionMatrixDisplay at 0x23571e27be0>"
      ]
     },
     "execution_count": 133,
     "metadata": {},
     "output_type": "execute_result"
    },
    {
     "data": {
      "image/png": "[encoded data removed]",
      "text/plain": [
       "<Figure size 432x288 with 2 Axes>"
      ]
     },
     "metadata": {
      "needs_background": "light"
     },
     "output_type": "display_data"
    }
   ],
   "source": [
    "plot_confusion_matrix(clf_xgb, X_test, y_test, values_format='d',\n",
    "                     display_labels=[\"Did not leave\", \"Left\"]) "
   ]
  }
 ],
 "metadata": {
  "kernelspec": {
   "display_name": "Python 3 (ipykernel)",
   "language": "python",
   "name": "python3"
  },
  "language_info": {
   "codemirror_mode": {
    "name": "ipython",
    "version": 3
   },
   "file_extension": ".py",
   "mimetype": "text/x-python",
   "name": "python",
   "nbconvert_exporter": "python",
   "pygments_lexer": "ipython3",
   "version": "3.9.12"
  }
 },
 "nbformat": 4,
 "nbformat_minor": 5
}
